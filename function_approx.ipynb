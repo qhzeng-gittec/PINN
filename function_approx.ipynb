{
 "cells": [
  {
   "cell_type": "code",
   "execution_count": 2,
   "metadata": {},
   "outputs": [
    {
     "name": "stdout",
     "output_type": "stream",
     "text": [
      "Epoch [100/1000], Loss: 0.0974\n",
      "Epoch [200/1000], Loss: 0.0898\n",
      "Epoch [300/1000], Loss: 0.0860\n",
      "Epoch [400/1000], Loss: 0.0835\n",
      "Epoch [500/1000], Loss: 0.0819\n",
      "Epoch [600/1000], Loss: 0.0809\n",
      "Epoch [700/1000], Loss: 0.0801\n",
      "Epoch [800/1000], Loss: 0.0777\n",
      "Epoch [900/1000], Loss: 0.0707\n",
      "Epoch [1000/1000], Loss: 0.0633\n"
     ]
    }
   ],
   "source": [
    "import torch\n",
    "import torch.nn as nn\n",
    "import torch.optim as optim\n",
    "import numpy as np\n",
    "\n",
    "# Define your network\n",
    "class CustomNeuralNetwork(nn.Module):  # 继承nn.module 类，只需自己定义数据如何输入\n",
    "    def __init__(self, layers):  #layers:  list, 每个元素为每层的神经元个数，第一个为输入维度，最后一个为输出维度\n",
    "        super(CustomNeuralNetwork, self).__init__()  \n",
    "\n",
    "        net_layers = []\n",
    "\n",
    "        for i in range(1, len(layers)):\n",
    "            net_layers.append(nn.Linear(layers[i-1], layers[i]))\n",
    "            if i < len(layers) - 1:  # 最后一层不需要激活函数\n",
    "                net_layers.append(nn.ReLU())  # You can use other activation functions here\n",
    "\n",
    "        self.net = nn.Sequential(*net_layers)   # 把list中的元素依次嵌套成网络\n",
    "        \n",
    "\n",
    "    def forward(self, x):\n",
    "        return self.net(x)\n",
    "\n",
    "# Define your data\n",
    "# Assuming you have input_data as a NumPy array with shape (num_samples, num_features)\n",
    "# and target_data as a NumPy array with shape (num_samples, 1)\n",
    "input_data = np.random.rand(100, 5)\n",
    "target_data = np.random.rand(100, 1)\n",
    "\n",
    "# Convert NumPy arrays to PyTorch tensors\n",
    "input_data = torch.Tensor(input_data)\n",
    "target_data = torch.Tensor(target_data)\n",
    "\n",
    "# Specify the dimensions of your data\n",
    "input_size = input_data.shape[1]  # Number of features\n",
    "output_size = 1  # Output is a single number\n",
    "\n",
    "# Define the network\n",
    "layers = [input_size, 10, 10, output_size]  # 层数可调\n",
    "model = CustomNeuralNetwork(layers)\n",
    "\n",
    "# Define the loss function and optimizer\n",
    "criterion = nn.MSELoss()  # Mean Squared Error loss for regression tasks\n",
    "optimizer = optim.Adam(model.parameters(), lr=0.001)  # You can adjust the learning rate\n",
    "\n",
    "# Training the network\n",
    "num_epochs = 1000  # You can adjust the number of epochs\n",
    "for epoch in range(num_epochs):\n",
    "    optimizer.zero_grad()\n",
    "    outputs = model(input_data)\n",
    "    loss = criterion(outputs, target_data)\n",
    "    loss.backward()\n",
    "    optimizer.step()\n",
    "\n",
    "    if (epoch + 1) % 100 == 0:\n",
    "        print(f'Epoch [{epoch + 1}/{num_epochs}], Loss: {loss.item():.4f}')\n",
    "\n",
    "# The model is now trained and can be used for predictions\n"
   ]
  },
  {
   "cell_type": "code",
   "execution_count": null,
   "metadata": {},
   "outputs": [],
   "source": [
    "# 自定义参数\n",
    "\n",
    "self.lambda_param = nn.Parameter(torch.tensor(0.5), requires_grad=True)\n",
    "\n",
    "# 求导\n",
    "grad_y = torch.autograd.grad(y, x, create_graph=True)  # Create a graph suitable for further gradient computation\n",
    "# Now, compute the second-order gradient (Hessian matrix)\n",
    "second_order_grad_y = torch.autograd.grad(grad_y, x)\n",
    "#自定义loss\n",
    "def custom_mae_loss(predicted, target):\n",
    "    return torch.mean(torch.abs(predicted - target))"
   ]
  },
  {
   "cell_type": "code",
   "execution_count": 30,
   "metadata": {},
   "outputs": [],
   "source": [
    "import torch\n",
    "import torch.nn as nn\n",
    "import torch.optim as optim\n",
    "import numpy as np\n",
    "\n",
    "class U_net(nn.Module):\n",
    "    def __init__(self, layers, params):\n",
    "        super(U_net, self).__init__()\n",
    "        self.params = params  \n",
    "        \n",
    "        # Define your network layers here\n",
    "        net_layers = []\n",
    "\n",
    "        for i in range(1, len(layers)):\n",
    "            net_layers.append(nn.Linear(layers[i-1], layers[i]))\n",
    "            if i < len(layers) - 1:\n",
    "                net_layers.append(nn.ReLU())\n",
    "\n",
    "        self.U = nn.Sequential(*net_layers)\n",
    "\n",
    "    def F(self,x_f, t_f):\n",
    "        # Define your additional operations here\n",
    "        U_t = torch.autograd.grad(self.U_inner, t_f,torch.ones_like(t_f),create_graph=True)[0]  #ones_like(t_f)使得能计算每一对U_inner和t_f的导数\n",
    "        \n",
    "        U_x = torch.autograd.grad(self.U_inner, x_f, torch.ones_like(x_f),create_graph=True)[0]\n",
    "        \n",
    "        U_xx = torch.autograd.grad(U_x, x_f, torch.ones_like(x_f),create_graph=True)[0]\n",
    "       \n",
    "        return U_t + self.U_inner * U_x - self.params * U_xx\n",
    "    \n",
    "\n",
    "    def forward(self, x_u, t_u, x_f, t_f):\n",
    "       \n",
    "        self.U_bound = self.U(torch.cat((x_u, t_u), 1))\n",
    "        self.U_inner = self.U(torch.cat((x_f, t_f), 1))\n",
    "        F_output = self.F(x_f, t_f)  # Calculate the result of your additional operations\n",
    "\n",
    "        return F_output, self.U_bound  # Return both F_output and U_output\n",
    "    \n",
    "\n"
   ]
  },
  {
   "cell_type": "code",
   "execution_count": 31,
   "metadata": {},
   "outputs": [],
   "source": [
    "#load data\n",
    "import scipy.io\n",
    "import numpy as np\n",
    "from pyDOE import lhs\n",
    "data = scipy.io.loadmat(r'./Data/burgers_shock.mat')\n",
    "\n",
    "N_u = 100\n",
    "N_f = 10000\n",
    "params = 0.01/np.pi\n",
    "\n",
    "t = data['t'].flatten()[:,None]\n",
    "x = data['x'].flatten()[:,None]\n",
    "Exact = np.real(data['usol']).T\n",
    "\n",
    "X, T = np.meshgrid(x,t)\n",
    "\n",
    "X_star = np.hstack((X.flatten()[:,None], T.flatten()[:,None]))  #（x,t）的所有组合\n",
    "u_star = Exact.flatten()[:,None]              \n",
    "\n",
    "# Doman bounds\n",
    "lb = X_star.min(0)  #（x,t）的最小值\n",
    "ub = X_star.max(0)  #（x,t）的最大值\n",
    "    \n",
    "xx1 = np.hstack((X[0:1,:].T, T[0:1,:].T)) #X最小值的边界\n",
    "uu1 = Exact[0:1,:].T\n",
    "xx2 = np.hstack((X[:,0:1], T[:,0:1]))  #T最小值的边界\n",
    "uu2 = Exact[:,0:1]\n",
    "xx3 = np.hstack((X[:,-1:], T[:,-1:]))  #T最大值的边界\n",
    "uu3 = Exact[:,-1:]\n",
    "\n",
    "X_u_train = np.vstack([xx1, xx2, xx3])  #边界点纵向堆叠\n",
    "X_f_train = lb + (ub-lb)*lhs(2, N_f)  #lhs生成N_f行，2列的随机数,取得Nf个内部点\n",
    "X_f_train = np.vstack((X_f_train, X_u_train))\n",
    "u_train = np.vstack([uu1, uu2, uu3])\n",
    "\n",
    "idx = np.random.choice(X_u_train.shape[0], N_u, replace=False) #从X_u_train中随机选取N_u个点\n",
    "X_u_train = X_u_train[idx, :]\n",
    "u_train = u_train[idx,:]\n"
   ]
  },
  {
   "cell_type": "code",
   "execution_count": 39,
   "metadata": {},
   "outputs": [
    {
     "ename": "",
     "evalue": "",
     "output_type": "error",
     "traceback": [
      "\u001b[1;31mThe Kernel crashed while executing code in the the current cell or a previous cell. Please review the code in the cell(s) to identify a possible cause of the failure. Click <a href='https://aka.ms/vscodeJupyterKernelCrash'>here</a> for more info. View Jupyter <a href='command:jupyter.viewOutput'>log</a> for further details."
     ]
    }
   ],
   "source": [
    "# Create an instance of your U_net model\n",
    "layers = [2, 20, 20, 20, 20, 20, 20, 20, 20, 1]\n",
    "model = U_net(layers, params)\n",
    "\n",
    "# Input data\n",
    "x_bound = torch.Tensor(X_u_train[:,0:1])\n",
    "t_bound = torch.Tensor(X_u_train[:,1:2])\n",
    "x_inner = torch.Tensor(X_f_train[:,0:1])\n",
    "x_inner.requires_grad=True\n",
    "t_inner = torch.Tensor(X_f_train[:,1:2])\n",
    "t_inner.requires_grad=True\n",
    "u_train_tf = torch.Tensor(u_train)\n",
    "# Forward pass through the model\n",
    "\n",
    "# Now you can use F_output and U_output in your loss function\n",
    "\n",
    "# Define an optimizer\n",
    "optimizer = optim.LBFGS(model.parameters(),max_iter=50000)\n",
    "\n",
    "def loss_func(F, U):\n",
    "    return torch.mean(torch.square(F)) + torch.mean(torch.square(U - u_train_tf))\n",
    "def closure():\n",
    "    optimizer.zero_grad()\n",
    "    F_output, U_output = model(x_bound, t_bound, x_inner, t_inner)\n",
    "    loss = loss_func(F_output, U_output)\n",
    "    loss.backward()\n",
    "    return loss\n",
    "# Training loop\n",
    "num_epochs = 1000\n",
    "for epoch in range(num_epochs):\n",
    "    # Forward pass\n",
    "    # Calculate the loss\n",
    "    optimizer.step(closure)\n",
    "    if (epoch + 1) % 10 == 0:\n",
    "        loss = closure()\n",
    "        print(f'Epoch [{epoch + 1}/{num_epochs}], Loss: {loss.item():.4f}')"
   ]
  },
  {
   "cell_type": "code",
   "execution_count": 33,
   "metadata": {},
   "outputs": [],
   "source": [
    "#predict\n",
    "from scipy.interpolate import griddata\n",
    "pred_x = torch.tensor(X_star[:,0:1],dtype=torch.float32)\n",
    "pred_x.requires_grad=True\n",
    "pred_t = torch.tensor(X_star[:,1:2],dtype=torch.float32)\n",
    "pred_t.requires_grad=True\n",
    "\n",
    "F_pred, U_pred = model(pred_x, pred_t, pred_x, pred_t) #计算相同点的F和U\n",
    "#convert to numpy\n",
    "U_pred = U_pred.detach().numpy()\n",
    "U_interp = griddata(X_star, U_pred.flatten(), (X, T), method='cubic')  #把一列重新整理为矩阵\n"
   ]
  },
  {
   "cell_type": "code",
   "execution_count": 35,
   "metadata": {},
   "outputs": [
    {
     "data": {
      "text/plain": [
       "<matplotlib.image.AxesImage at 0x1a92cea44f0>"
      ]
     },
     "execution_count": 35,
     "metadata": {},
     "output_type": "execute_result"
    },
    {
     "data": {
      "text/plain": [
       "<matplotlib.colorbar.Colorbar at 0x1a92cea5a20>"
      ]
     },
     "execution_count": 35,
     "metadata": {},
     "output_type": "execute_result"
    },
    {
     "data": {
      "image/png": "[encoded data removed]",
      "text/plain": [
       "<Figure size 640x480 with 2 Axes>"
      ]
     },
     "metadata": {},
     "output_type": "display_data"
    }
   ],
   "source": [
    "\n",
    "import matplotlib.pyplot as plt\n",
    "\n",
    "\n",
    "plt.imshow(U_interp.T,interpolation='nearest', origin='lower', cmap='rainbow',extent=[lb[0], ub[0], lb[1], ub[1]])\n",
    "\n",
    "plt.colorbar()\n",
    "plt.show()\n"
   ]
  }
 ],
 "metadata": {
  "kernelspec": {
   "display_name": "Python 3",
   "language": "python",
   "name": "python3"
  },
  "language_info": {
   "codemirror_mode": {
    "name": "ipython",
    "version": 3
   },
   "file_extension": ".py",
   "mimetype": "text/x-python",
   "name": "python",
   "nbconvert_exporter": "python",
   "pygments_lexer": "ipython3",
   "version": "3.10.5"
  }
 },
 "nbformat": 4,
 "nbformat_minor": 2
}
